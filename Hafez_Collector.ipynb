{
 "cells": [
  {
   "cell_type": "markdown",
   "metadata": {},
   "source": [
    "# Hafez Collector"
   ]
  },
  {
   "cell_type": "code",
   "execution_count": 111,
   "metadata": {
    "collapsed": true
   },
   "outputs": [],
   "source": [
    "import os \n",
    "import sys\n",
    "from bs4 import BeautifulSoup\n",
    "import urllib.request\n",
    "import re"
   ]
  },
  {
   "cell_type": "code",
   "execution_count": 130,
   "metadata": {
    "collapsed": true
   },
   "outputs": [],
   "source": [
    "link = \"https://ganjoor.net/hafez/ghazal/\""
   ]
  },
  {
   "cell_type": "code",
   "execution_count": 139,
   "metadata": {
    "collapsed": true
   },
   "outputs": [],
   "source": [
    "folder = '/Hafez/'"
   ]
  },
  {
   "cell_type": "code",
   "execution_count": 113,
   "metadata": {
    "collapsed": true
   },
   "outputs": [],
   "source": [
    "def PoemCollector(link):\n",
    "\n",
    "    resp = urllib.request.urlopen(link)\n",
    "    soup = BeautifulSoup(resp, 'lxml', from_encoding=resp.info().get_param('charset'))\n",
    "    PoemBody = soup.find_all('div' ,{'class':\"b\"})\n",
    "    #PoemBody = soup.find('article').text\n",
    "    div = soup.find_all('div' ,{'class':\"b\"})\n",
    "    #PoemBody = div.text.replace(div.find('p').text,\"\")\n",
    "    #PoemBody = soup.find('div' ,{'class':\"b\"}).find('p')\n",
    "    return [PoemBody]"
   ]
  },
  {
   "cell_type": "code",
   "execution_count": 122,
   "metadata": {
    "collapsed": false
   },
   "outputs": [],
   "source": [
    "def TextCleaner(LL):\n",
    "    TextLL = str(LL)\n",
    "    TextLL=TextLL.replace('<div class=\"b\">',\"   \")\n",
    "    TextLL=TextLL.replace('<div class=\"m1\">','')\n",
    "    TextLL=TextLL.replace('<div>','')\n",
    "    TextLL=TextLL.replace('</div>','')\n",
    "    TextLL=TextLL.replace('<p>',' ')\n",
    "    TextLL=TextLL.replace('</p>','')\n",
    "    TextLL=TextLL.replace(',',' ')\n",
    "    TextLL=TextLL.replace('[','')\n",
    "    TextLL=TextLL.replace(']','')\n",
    "    TextLL=TextLL.replace('\\u200c','')\n",
    "    TextLL=TextLL.replace('<div class=\"m2\">','')\n",
    "\n",
    "    return TextLL"
   ]
  },
  {
   "cell_type": "code",
   "execution_count": 141,
   "metadata": {
    "collapsed": false
   },
   "outputs": [],
   "source": [
    "for numb in range (0,495):\n",
    "    numb = str(numb+1)\n",
    "    numb = \"sh\" + numb\n",
    "    LoopedLink = link + numb\n",
    "    LL = PoemCollector(LoopedLink)\n",
    "    text_file = open(os.getcwd()+folder+numb+\".txt\", \"w\")\n",
    "    text_file.write(TextCleaner(LL))\n",
    "    text_file.close()"
   ]
  }
 ],
 "metadata": {
  "kernelspec": {
   "display_name": "Python 3",
   "language": "python",
   "name": "python3"
  },
  "language_info": {
   "codemirror_mode": {
    "name": "ipython",
    "version": 3
   },
   "file_extension": ".py",
   "mimetype": "text/x-python",
   "name": "python",
   "nbconvert_exporter": "python",
   "pygments_lexer": "ipython3",
   "version": "3.5.4"
  }
 },
 "nbformat": 4,
 "nbformat_minor": 2
}
